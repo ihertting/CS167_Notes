{
  "nbformat": 4,
  "nbformat_minor": 0,
  "metadata": {
    "colab": {
      "name": "Day02_Notes.ipynb",
      "provenance": [],
      "authorship_tag": "ABX9TyN5LGkiWJzpdGnS22NODR8M",
      "include_colab_link": true
    },
    "kernelspec": {
      "name": "python3",
      "display_name": "Python 3"
    },
    "language_info": {
      "name": "python"
    }
  },
  "cells": [
    {
      "cell_type": "markdown",
      "metadata": {
        "id": "view-in-github",
        "colab_type": "text"
      },
      "source": [
        "<a href=\"https://colab.research.google.com/github/ihertting/CS167_Notes/blob/main/Day02_Notes.ipynb\" target=\"_parent\"><img src=\"https://colab.research.google.com/assets/colab-badge.svg\" alt=\"Open In Colab\"/></a>"
      ]
    },
    {
      "cell_type": "code",
      "metadata": {
        "colab": {
          "base_uri": "https://localhost:8080/"
        },
        "id": "lTRCLH1S63sL",
        "outputId": "b4821e83-fbcd-4b00-dc8f-ba193a0ca536"
      },
      "source": [
        "a=10\n",
        "b=3.14\n",
        "c = \"machine learning\"\n",
        "d = 'hi'\n",
        "e = 'x'\n",
        "f = [1,2,3]\n",
        "print(a,b,c,d,e,f)"
      ],
      "execution_count": 1,
      "outputs": [
        {
          "output_type": "stream",
          "name": "stdout",
          "text": [
            "10 3.14 machine learning hi x [1, 2, 3]\n"
          ]
        }
      ]
    },
    {
      "cell_type": "code",
      "metadata": {
        "colab": {
          "base_uri": "https://localhost:8080/"
        },
        "id": "_fBTETL47iYz",
        "outputId": "03b55dd2-7cd5-4a9b-ec79-ecc6129256fb"
      },
      "source": [
        "print(\"a's type:\", type(a))\n",
        "a = 'variables can change types'\n",
        "print(\"a's type:\", type(a))\n",
        "print(type(b))\n",
        "print(type(c))\n",
        "print(type(d))\n",
        "print(type(e))\n",
        "print(type(f))"
      ],
      "execution_count": 2,
      "outputs": [
        {
          "output_type": "stream",
          "name": "stdout",
          "text": [
            "a's type: <class 'int'>\n",
            "a's type: <class 'str'>\n",
            "<class 'float'>\n",
            "<class 'str'>\n",
            "<class 'str'>\n",
            "<class 'str'>\n",
            "<class 'list'>\n"
          ]
        }
      ]
    },
    {
      "cell_type": "code",
      "metadata": {
        "colab": {
          "base_uri": "https://localhost:8080/"
        },
        "id": "L_P0Klth7xBJ",
        "outputId": "cdb74c16-c539-49d6-8cc9-96c09bcc6543"
      },
      "source": [
        "x = [1,2,3]\n",
        "y=x\n",
        "x[0] = \"abc\"\n",
        "print(y)\n",
        "#before you run, what will the value of y[0] be?"
      ],
      "execution_count": 3,
      "outputs": [
        {
          "output_type": "stream",
          "name": "stdout",
          "text": [
            "['abc', 2, 3]\n"
          ]
        }
      ]
    },
    {
      "cell_type": "code",
      "metadata": {
        "colab": {
          "base_uri": "https://localhost:8080/"
        },
        "id": "1ffaRGhs8LFg",
        "outputId": "738ee006-5f8a-46f2-c5a7-62731b797c19"
      },
      "source": [
        "z = x[1]\n",
        "x[1] = \"what\"\n",
        "print(x)\n",
        "print(z)\n",
        "x.append(70)\n",
        "x.insert(2,90)\n",
        "print(x)\n",
        "#can you predict what will be output?"
      ],
      "execution_count": 4,
      "outputs": [
        {
          "output_type": "stream",
          "name": "stdout",
          "text": [
            "['abc', 'what', 3]\n",
            "2\n",
            "['abc', 'what', 90, 3, 70]\n"
          ]
        }
      ]
    },
    {
      "cell_type": "code",
      "metadata": {
        "colab": {
          "base_uri": "https://localhost:8080/"
        },
        "id": "PpPreOJE8VAq",
        "outputId": "16d53020-e4ac-4d53-ae53-3a8cb51e1170"
      },
      "source": [
        "print( x.index(90) )\n",
        "print( len(x) )\n",
        "print( x+x )\n",
        "#can you predict what will be output?"
      ],
      "execution_count": 5,
      "outputs": [
        {
          "output_type": "stream",
          "name": "stdout",
          "text": [
            "2\n",
            "5\n",
            "['abc', 'what', 90, 3, 70, 'abc', 'what', 90, 3, 70]\n"
          ]
        }
      ]
    },
    {
      "cell_type": "code",
      "metadata": {
        "colab": {
          "base_uri": "https://localhost:8080/"
        },
        "id": "hUZ_15UA9S66",
        "outputId": "2815f78d-f083-4af7-da7d-76ca260d7ed0"
      },
      "source": [
        "my_list = [33, 55, 'hello','R2D2',7.8,'banana']\n",
        "print( my_list[1:5])\n",
        "print( my_list[:4])\n",
        "print( my_list[4:])\n",
        "print( my_list[:])"
      ],
      "execution_count": 6,
      "outputs": [
        {
          "output_type": "stream",
          "name": "stdout",
          "text": [
            "[55, 'hello', 'R2D2', 7.8]\n",
            "[33, 55, 'hello', 'R2D2']\n",
            "[7.8, 'banana']\n",
            "[33, 55, 'hello', 'R2D2', 7.8, 'banana']\n"
          ]
        }
      ]
    },
    {
      "cell_type": "code",
      "metadata": {
        "colab": {
          "base_uri": "https://localhost:8080/"
        },
        "id": "EzJUtcDV93do",
        "outputId": "39e5e7f4-728e-4f0f-cf8b-65efe7ae5313"
      },
      "source": [
        "my_slice = my_list[1:5]\n",
        "my_slice[2] = 'what'\n",
        "print(my_slice)\n",
        "print(my_list)\n",
        "print(my_list[1:5] + 2*['Drake','University'])\n",
        "my_list[:0] = ['Bulldogs']\n",
        "print(my_list)\n",
        "# why isn't \"Drake\" or \"University\" printed out in this last line?"
      ],
      "execution_count": 7,
      "outputs": [
        {
          "output_type": "stream",
          "name": "stdout",
          "text": [
            "[55, 'hello', 'what', 7.8]\n",
            "[33, 55, 'hello', 'R2D2', 7.8, 'banana']\n",
            "[55, 'hello', 'R2D2', 7.8, 'Drake', 'University', 'Drake', 'University']\n",
            "['Bulldogs', 33, 55, 'hello', 'R2D2', 7.8, 'banana']\n"
          ]
        }
      ]
    },
    {
      "cell_type": "code",
      "metadata": {
        "id": "jf59sdeA-NYb"
      },
      "source": [
        "my_list = [42, 3.14, 'hello', ['ice', 'ice', 'baby']]\n",
        "print(my_list[3][2])\n",
        "print(my_list[2][1])\n",
        "# wait, what? \n",
        "# explain what is happening here"
      ],
      "execution_count": null,
      "outputs": []
    }
  ]
}